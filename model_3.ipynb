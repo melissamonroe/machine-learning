{
 "cells": [
  {
   "cell_type": "code",
   "execution_count": 1,
   "metadata": {},
   "outputs": [],
   "source": [
    "%matplotlib inline\r\n",
    "import matplotlib.pyplot as plt\r\n",
    "import pandas as pd"
   ]
  },
  {
   "cell_type": "code",
   "execution_count": 2,
   "metadata": {},
   "outputs": [],
   "source": [
    "# Update sklearn to prevent version mismatches\r\n",
    "# !pip install sklearn --upgrade"
   ]
  },
  {
   "cell_type": "code",
   "execution_count": 3,
   "metadata": {},
   "outputs": [],
   "source": [
    "# install joblib. This will be used to save your model. \r\n",
    "# Restart your kernel after installing \r\n",
    "# !pip install joblib"
   ]
  },
  {
   "cell_type": "markdown",
   "metadata": {},
   "source": [
    "# Read the CSV and Perform Basic Data Cleaning"
   ]
  },
  {
   "cell_type": "code",
   "execution_count": 4,
   "metadata": {},
   "outputs": [
    {
     "data": {
      "text/html": "<div>\n<style scoped>\n    .dataframe tbody tr th:only-of-type {\n        vertical-align: middle;\n    }\n\n    .dataframe tbody tr th {\n        vertical-align: top;\n    }\n\n    .dataframe thead th {\n        text-align: right;\n    }\n</style>\n<table border=\"1\" class=\"dataframe\">\n  <thead>\n    <tr style=\"text-align: right;\">\n      <th></th>\n      <th>koi_disposition</th>\n      <th>koi_fpflag_nt</th>\n      <th>koi_fpflag_ss</th>\n      <th>koi_fpflag_co</th>\n      <th>koi_fpflag_ec</th>\n      <th>koi_period</th>\n      <th>koi_period_err1</th>\n      <th>koi_period_err2</th>\n      <th>koi_time0bk</th>\n      <th>koi_time0bk_err1</th>\n      <th>...</th>\n      <th>koi_steff_err2</th>\n      <th>koi_slogg</th>\n      <th>koi_slogg_err1</th>\n      <th>koi_slogg_err2</th>\n      <th>koi_srad</th>\n      <th>koi_srad_err1</th>\n      <th>koi_srad_err2</th>\n      <th>ra</th>\n      <th>dec</th>\n      <th>koi_kepmag</th>\n    </tr>\n  </thead>\n  <tbody>\n    <tr>\n      <th>0</th>\n      <td>CONFIRMED</td>\n      <td>0</td>\n      <td>0</td>\n      <td>0</td>\n      <td>0</td>\n      <td>54.418383</td>\n      <td>2.479000e-04</td>\n      <td>-2.479000e-04</td>\n      <td>162.513840</td>\n      <td>0.003520</td>\n      <td>...</td>\n      <td>-81</td>\n      <td>4.467</td>\n      <td>0.064</td>\n      <td>-0.096</td>\n      <td>0.927</td>\n      <td>0.105</td>\n      <td>-0.061</td>\n      <td>291.93423</td>\n      <td>48.141651</td>\n      <td>15.347</td>\n    </tr>\n    <tr>\n      <th>1</th>\n      <td>FALSE POSITIVE</td>\n      <td>0</td>\n      <td>1</td>\n      <td>0</td>\n      <td>0</td>\n      <td>19.899140</td>\n      <td>1.490000e-05</td>\n      <td>-1.490000e-05</td>\n      <td>175.850252</td>\n      <td>0.000581</td>\n      <td>...</td>\n      <td>-176</td>\n      <td>4.544</td>\n      <td>0.044</td>\n      <td>-0.176</td>\n      <td>0.868</td>\n      <td>0.233</td>\n      <td>-0.078</td>\n      <td>297.00482</td>\n      <td>48.134129</td>\n      <td>15.436</td>\n    </tr>\n    <tr>\n      <th>2</th>\n      <td>FALSE POSITIVE</td>\n      <td>0</td>\n      <td>1</td>\n      <td>0</td>\n      <td>0</td>\n      <td>1.736952</td>\n      <td>2.630000e-07</td>\n      <td>-2.630000e-07</td>\n      <td>170.307565</td>\n      <td>0.000115</td>\n      <td>...</td>\n      <td>-174</td>\n      <td>4.564</td>\n      <td>0.053</td>\n      <td>-0.168</td>\n      <td>0.791</td>\n      <td>0.201</td>\n      <td>-0.067</td>\n      <td>285.53461</td>\n      <td>48.285210</td>\n      <td>15.597</td>\n    </tr>\n    <tr>\n      <th>3</th>\n      <td>CONFIRMED</td>\n      <td>0</td>\n      <td>0</td>\n      <td>0</td>\n      <td>0</td>\n      <td>2.525592</td>\n      <td>3.760000e-06</td>\n      <td>-3.760000e-06</td>\n      <td>171.595550</td>\n      <td>0.001130</td>\n      <td>...</td>\n      <td>-211</td>\n      <td>4.438</td>\n      <td>0.070</td>\n      <td>-0.210</td>\n      <td>1.046</td>\n      <td>0.334</td>\n      <td>-0.133</td>\n      <td>288.75488</td>\n      <td>48.226200</td>\n      <td>15.509</td>\n    </tr>\n    <tr>\n      <th>4</th>\n      <td>CONFIRMED</td>\n      <td>0</td>\n      <td>0</td>\n      <td>0</td>\n      <td>0</td>\n      <td>4.134435</td>\n      <td>1.050000e-05</td>\n      <td>-1.050000e-05</td>\n      <td>172.979370</td>\n      <td>0.001900</td>\n      <td>...</td>\n      <td>-232</td>\n      <td>4.486</td>\n      <td>0.054</td>\n      <td>-0.229</td>\n      <td>0.972</td>\n      <td>0.315</td>\n      <td>-0.105</td>\n      <td>296.28613</td>\n      <td>48.224670</td>\n      <td>15.714</td>\n    </tr>\n  </tbody>\n</table>\n<p>5 rows × 41 columns</p>\n</div>",
      "text/plain": "  koi_disposition  koi_fpflag_nt  koi_fpflag_ss  koi_fpflag_co  koi_fpflag_ec  \\\n0       CONFIRMED              0              0              0              0   \n1  FALSE POSITIVE              0              1              0              0   \n2  FALSE POSITIVE              0              1              0              0   \n3       CONFIRMED              0              0              0              0   \n4       CONFIRMED              0              0              0              0   \n\n   koi_period  koi_period_err1  koi_period_err2  koi_time0bk  \\\n0   54.418383     2.479000e-04    -2.479000e-04   162.513840   \n1   19.899140     1.490000e-05    -1.490000e-05   175.850252   \n2    1.736952     2.630000e-07    -2.630000e-07   170.307565   \n3    2.525592     3.760000e-06    -3.760000e-06   171.595550   \n4    4.134435     1.050000e-05    -1.050000e-05   172.979370   \n\n   koi_time0bk_err1  ...  koi_steff_err2  koi_slogg  koi_slogg_err1  \\\n0          0.003520  ...             -81      4.467           0.064   \n1          0.000581  ...            -176      4.544           0.044   \n2          0.000115  ...            -174      4.564           0.053   \n3          0.001130  ...            -211      4.438           0.070   \n4          0.001900  ...            -232      4.486           0.054   \n\n   koi_slogg_err2  koi_srad  koi_srad_err1  koi_srad_err2         ra  \\\n0          -0.096     0.927          0.105         -0.061  291.93423   \n1          -0.176     0.868          0.233         -0.078  297.00482   \n2          -0.168     0.791          0.201         -0.067  285.53461   \n3          -0.210     1.046          0.334         -0.133  288.75488   \n4          -0.229     0.972          0.315         -0.105  296.28613   \n\n         dec  koi_kepmag  \n0  48.141651      15.347  \n1  48.134129      15.436  \n2  48.285210      15.597  \n3  48.226200      15.509  \n4  48.224670      15.714  \n\n[5 rows x 41 columns]"
     },
     "execution_count": 4,
     "metadata": {},
     "output_type": "execute_result"
    }
   ],
   "source": [
    "df = pd.read_csv(\"exoplanet_data.csv\")\r\n",
    "# Drop the null columns where all values are null\r\n",
    "df = df.dropna(axis='columns', how='all')\r\n",
    "# Drop the null rows\r\n",
    "df = df.dropna()\r\n",
    "df.head()"
   ]
  },
  {
   "cell_type": "code",
   "execution_count": 5,
   "metadata": {},
   "outputs": [
    {
     "name": "stdout",
     "output_type": "stream",
     "text": [
      "Index(['koi_disposition', 'koi_fpflag_nt', 'koi_fpflag_ss', 'koi_fpflag_co',\n",
      "       'koi_fpflag_ec', 'koi_period', 'koi_period_err1', 'koi_period_err2',\n",
      "       'koi_time0bk', 'koi_time0bk_err1', 'koi_time0bk_err2', 'koi_impact',\n",
      "       'koi_impact_err1', 'koi_impact_err2', 'koi_duration',\n",
      "       'koi_duration_err1', 'koi_duration_err2', 'koi_depth', 'koi_depth_err1',\n",
      "       'koi_depth_err2', 'koi_prad', 'koi_prad_err1', 'koi_prad_err2',\n",
      "       'koi_teq', 'koi_insol', 'koi_insol_err1', 'koi_insol_err2',\n",
      "       'koi_model_snr', 'koi_tce_plnt_num', 'koi_steff', 'koi_steff_err1',\n",
      "       'koi_steff_err2', 'koi_slogg', 'koi_slogg_err1', 'koi_slogg_err2',\n",
      "       'koi_srad', 'koi_srad_err1', 'koi_srad_err2', 'ra', 'dec',\n",
      "       'koi_kepmag'],\n",
      "      dtype='object')\n"
     ]
    }
   ],
   "source": [
    "print(df.columns)"
   ]
  },
  {
   "cell_type": "markdown",
   "metadata": {},
   "source": [
    "# Select your features (columns)"
   ]
  },
  {
   "cell_type": "code",
   "execution_count": 6,
   "metadata": {},
   "outputs": [
    {
     "data": {
      "text/html": "<div>\n<style scoped>\n    .dataframe tbody tr th:only-of-type {\n        vertical-align: middle;\n    }\n\n    .dataframe tbody tr th {\n        vertical-align: top;\n    }\n\n    .dataframe thead th {\n        text-align: right;\n    }\n</style>\n<table border=\"1\" class=\"dataframe\">\n  <thead>\n    <tr style=\"text-align: right;\">\n      <th></th>\n      <th>koi_disposition</th>\n      <th>koi_fpflag_nt</th>\n      <th>koi_fpflag_ss</th>\n      <th>koi_fpflag_co</th>\n      <th>koi_fpflag_ec</th>\n      <th>koi_period</th>\n      <th>koi_time0bk</th>\n      <th>koi_duration</th>\n      <th>koi_depth</th>\n      <th>koi_prad</th>\n      <th>koi_insol</th>\n      <th>koi_model_snr</th>\n      <th>koi_tce_plnt_num</th>\n      <th>koi_steff</th>\n      <th>koi_slogg</th>\n      <th>koi_srad</th>\n      <th>ra</th>\n      <th>dec</th>\n      <th>koi_kepmag</th>\n    </tr>\n  </thead>\n  <tbody>\n    <tr>\n      <th>0</th>\n      <td>CONFIRMED</td>\n      <td>0</td>\n      <td>0</td>\n      <td>0</td>\n      <td>0</td>\n      <td>54.418383</td>\n      <td>162.513840</td>\n      <td>4.50700</td>\n      <td>874.8</td>\n      <td>2.83</td>\n      <td>9.11</td>\n      <td>25.8</td>\n      <td>2</td>\n      <td>5455</td>\n      <td>4.467</td>\n      <td>0.927</td>\n      <td>291.93423</td>\n      <td>48.141651</td>\n      <td>15.347</td>\n    </tr>\n    <tr>\n      <th>1</th>\n      <td>FALSE POSITIVE</td>\n      <td>0</td>\n      <td>1</td>\n      <td>0</td>\n      <td>0</td>\n      <td>19.899140</td>\n      <td>175.850252</td>\n      <td>1.78220</td>\n      <td>10829.0</td>\n      <td>14.60</td>\n      <td>39.30</td>\n      <td>76.3</td>\n      <td>1</td>\n      <td>5853</td>\n      <td>4.544</td>\n      <td>0.868</td>\n      <td>297.00482</td>\n      <td>48.134129</td>\n      <td>15.436</td>\n    </tr>\n    <tr>\n      <th>2</th>\n      <td>FALSE POSITIVE</td>\n      <td>0</td>\n      <td>1</td>\n      <td>0</td>\n      <td>0</td>\n      <td>1.736952</td>\n      <td>170.307565</td>\n      <td>2.40641</td>\n      <td>8079.2</td>\n      <td>33.46</td>\n      <td>891.96</td>\n      <td>505.6</td>\n      <td>1</td>\n      <td>5805</td>\n      <td>4.564</td>\n      <td>0.791</td>\n      <td>285.53461</td>\n      <td>48.285210</td>\n      <td>15.597</td>\n    </tr>\n    <tr>\n      <th>3</th>\n      <td>CONFIRMED</td>\n      <td>0</td>\n      <td>0</td>\n      <td>0</td>\n      <td>0</td>\n      <td>2.525592</td>\n      <td>171.595550</td>\n      <td>1.65450</td>\n      <td>603.3</td>\n      <td>2.75</td>\n      <td>926.16</td>\n      <td>40.9</td>\n      <td>1</td>\n      <td>6031</td>\n      <td>4.438</td>\n      <td>1.046</td>\n      <td>288.75488</td>\n      <td>48.226200</td>\n      <td>15.509</td>\n    </tr>\n    <tr>\n      <th>4</th>\n      <td>CONFIRMED</td>\n      <td>0</td>\n      <td>0</td>\n      <td>0</td>\n      <td>0</td>\n      <td>4.134435</td>\n      <td>172.979370</td>\n      <td>3.14020</td>\n      <td>686.0</td>\n      <td>2.77</td>\n      <td>427.65</td>\n      <td>40.2</td>\n      <td>2</td>\n      <td>6046</td>\n      <td>4.486</td>\n      <td>0.972</td>\n      <td>296.28613</td>\n      <td>48.224670</td>\n      <td>15.714</td>\n    </tr>\n    <tr>\n      <th>...</th>\n      <td>...</td>\n      <td>...</td>\n      <td>...</td>\n      <td>...</td>\n      <td>...</td>\n      <td>...</td>\n      <td>...</td>\n      <td>...</td>\n      <td>...</td>\n      <td>...</td>\n      <td>...</td>\n      <td>...</td>\n      <td>...</td>\n      <td>...</td>\n      <td>...</td>\n      <td>...</td>\n      <td>...</td>\n      <td>...</td>\n      <td>...</td>\n    </tr>\n    <tr>\n      <th>6986</th>\n      <td>FALSE POSITIVE</td>\n      <td>0</td>\n      <td>0</td>\n      <td>0</td>\n      <td>1</td>\n      <td>8.589871</td>\n      <td>132.016100</td>\n      <td>4.80600</td>\n      <td>87.7</td>\n      <td>1.11</td>\n      <td>176.40</td>\n      <td>8.4</td>\n      <td>1</td>\n      <td>5638</td>\n      <td>4.296</td>\n      <td>1.088</td>\n      <td>298.74921</td>\n      <td>46.973351</td>\n      <td>14.478</td>\n    </tr>\n    <tr>\n      <th>6987</th>\n      <td>FALSE POSITIVE</td>\n      <td>0</td>\n      <td>1</td>\n      <td>1</td>\n      <td>0</td>\n      <td>0.527699</td>\n      <td>131.705093</td>\n      <td>3.22210</td>\n      <td>1579.2</td>\n      <td>29.35</td>\n      <td>4500.53</td>\n      <td>453.3</td>\n      <td>1</td>\n      <td>5638</td>\n      <td>4.529</td>\n      <td>0.903</td>\n      <td>297.18875</td>\n      <td>47.093819</td>\n      <td>14.082</td>\n    </tr>\n    <tr>\n      <th>6988</th>\n      <td>CANDIDATE</td>\n      <td>0</td>\n      <td>0</td>\n      <td>0</td>\n      <td>0</td>\n      <td>1.739849</td>\n      <td>133.001270</td>\n      <td>3.11400</td>\n      <td>48.5</td>\n      <td>0.72</td>\n      <td>1585.81</td>\n      <td>10.6</td>\n      <td>1</td>\n      <td>6119</td>\n      <td>4.444</td>\n      <td>1.031</td>\n      <td>286.50937</td>\n      <td>47.163219</td>\n      <td>14.757</td>\n    </tr>\n    <tr>\n      <th>6989</th>\n      <td>FALSE POSITIVE</td>\n      <td>0</td>\n      <td>0</td>\n      <td>1</td>\n      <td>0</td>\n      <td>0.681402</td>\n      <td>132.181750</td>\n      <td>0.86500</td>\n      <td>103.6</td>\n      <td>1.07</td>\n      <td>5713.41</td>\n      <td>12.3</td>\n      <td>1</td>\n      <td>6173</td>\n      <td>4.447</td>\n      <td>1.041</td>\n      <td>294.16489</td>\n      <td>47.176281</td>\n      <td>15.385</td>\n    </tr>\n    <tr>\n      <th>6990</th>\n      <td>FALSE POSITIVE</td>\n      <td>0</td>\n      <td>0</td>\n      <td>1</td>\n      <td>1</td>\n      <td>4.856035</td>\n      <td>135.993300</td>\n      <td>3.07800</td>\n      <td>76.7</td>\n      <td>1.05</td>\n      <td>607.42</td>\n      <td>8.2</td>\n      <td>1</td>\n      <td>6469</td>\n      <td>4.385</td>\n      <td>1.193</td>\n      <td>297.00977</td>\n      <td>47.121021</td>\n      <td>14.826</td>\n    </tr>\n  </tbody>\n</table>\n<p>6991 rows × 19 columns</p>\n</div>",
      "text/plain": "     koi_disposition  koi_fpflag_nt  koi_fpflag_ss  koi_fpflag_co  \\\n0          CONFIRMED              0              0              0   \n1     FALSE POSITIVE              0              1              0   \n2     FALSE POSITIVE              0              1              0   \n3          CONFIRMED              0              0              0   \n4          CONFIRMED              0              0              0   \n...              ...            ...            ...            ...   \n6986  FALSE POSITIVE              0              0              0   \n6987  FALSE POSITIVE              0              1              1   \n6988       CANDIDATE              0              0              0   \n6989  FALSE POSITIVE              0              0              1   \n6990  FALSE POSITIVE              0              0              1   \n\n      koi_fpflag_ec  koi_period  koi_time0bk  koi_duration  koi_depth  \\\n0                 0   54.418383   162.513840       4.50700      874.8   \n1                 0   19.899140   175.850252       1.78220    10829.0   \n2                 0    1.736952   170.307565       2.40641     8079.2   \n3                 0    2.525592   171.595550       1.65450      603.3   \n4                 0    4.134435   172.979370       3.14020      686.0   \n...             ...         ...          ...           ...        ...   \n6986              1    8.589871   132.016100       4.80600       87.7   \n6987              0    0.527699   131.705093       3.22210     1579.2   \n6988              0    1.739849   133.001270       3.11400       48.5   \n6989              0    0.681402   132.181750       0.86500      103.6   \n6990              1    4.856035   135.993300       3.07800       76.7   \n\n      koi_prad  koi_insol  koi_model_snr  koi_tce_plnt_num  koi_steff  \\\n0         2.83       9.11           25.8                 2       5455   \n1        14.60      39.30           76.3                 1       5853   \n2        33.46     891.96          505.6                 1       5805   \n3         2.75     926.16           40.9                 1       6031   \n4         2.77     427.65           40.2                 2       6046   \n...        ...        ...            ...               ...        ...   \n6986      1.11     176.40            8.4                 1       5638   \n6987     29.35    4500.53          453.3                 1       5638   \n6988      0.72    1585.81           10.6                 1       6119   \n6989      1.07    5713.41           12.3                 1       6173   \n6990      1.05     607.42            8.2                 1       6469   \n\n      koi_slogg  koi_srad         ra        dec  koi_kepmag  \n0         4.467     0.927  291.93423  48.141651      15.347  \n1         4.544     0.868  297.00482  48.134129      15.436  \n2         4.564     0.791  285.53461  48.285210      15.597  \n3         4.438     1.046  288.75488  48.226200      15.509  \n4         4.486     0.972  296.28613  48.224670      15.714  \n...         ...       ...        ...        ...         ...  \n6986      4.296     1.088  298.74921  46.973351      14.478  \n6987      4.529     0.903  297.18875  47.093819      14.082  \n6988      4.444     1.031  286.50937  47.163219      14.757  \n6989      4.447     1.041  294.16489  47.176281      15.385  \n6990      4.385     1.193  297.00977  47.121021      14.826  \n\n[6991 rows x 19 columns]"
     },
     "execution_count": 6,
     "metadata": {},
     "output_type": "execute_result"
    }
   ],
   "source": [
    "# Set features. This will also be used as your x values.\r\n",
    "selected_features = df[\r\n",
    "    [      \r\n",
    "        'koi_disposition'     \r\n",
    "        ,'koi_fpflag_nt'\r\n",
    "        ,'koi_fpflag_ss'\r\n",
    "        ,'koi_fpflag_co'\r\n",
    "        ,'koi_fpflag_ec'\r\n",
    "        ,'koi_period'\r\n",
    "        ,'koi_time0bk'\r\n",
    "        ,'koi_duration'\r\n",
    "        ,'koi_depth'\r\n",
    "        ,'koi_prad'\r\n",
    "        ,'koi_insol'\r\n",
    "        ,'koi_model_snr'\r\n",
    "        ,'koi_tce_plnt_num'\r\n",
    "        ,'koi_steff'\r\n",
    "        ,'koi_slogg'\r\n",
    "        ,'koi_srad'\r\n",
    "        ,'ra'\r\n",
    "        ,'dec'\r\n",
    "        ,'koi_kepmag'                \r\n",
    "    ]\r\n",
    "]\r\n",
    "selected_features"
   ]
  },
  {
   "cell_type": "code",
   "execution_count": 7,
   "metadata": {},
   "outputs": [
    {
     "data": {
      "text/plain": "FALSE POSITIVE    3504\nCONFIRMED         1800\nCANDIDATE         1687\nName: koi_disposition, dtype: int64"
     },
     "execution_count": 7,
     "metadata": {},
     "output_type": "execute_result"
    }
   ],
   "source": [
    "selected_features[\"koi_disposition\"].value_counts()"
   ]
  },
  {
   "cell_type": "code",
   "execution_count": 8,
   "metadata": {},
   "outputs": [
    {
     "data": {
      "text/html": "<div>\n<style scoped>\n    .dataframe tbody tr th:only-of-type {\n        vertical-align: middle;\n    }\n\n    .dataframe tbody tr th {\n        vertical-align: top;\n    }\n\n    .dataframe thead th {\n        text-align: right;\n    }\n</style>\n<table border=\"1\" class=\"dataframe\">\n  <thead>\n    <tr style=\"text-align: right;\">\n      <th></th>\n      <th>koi_fpflag_nt</th>\n      <th>koi_fpflag_ss</th>\n      <th>koi_fpflag_co</th>\n      <th>koi_fpflag_ec</th>\n      <th>koi_period</th>\n      <th>koi_time0bk</th>\n      <th>koi_duration</th>\n      <th>koi_depth</th>\n      <th>koi_prad</th>\n      <th>koi_insol</th>\n      <th>...</th>\n      <th>koi_tce_plnt_num</th>\n      <th>koi_steff</th>\n      <th>koi_slogg</th>\n      <th>koi_srad</th>\n      <th>ra</th>\n      <th>dec</th>\n      <th>koi_kepmag</th>\n      <th>koi_disposition_CANDIDATE</th>\n      <th>koi_disposition_CONFIRMED</th>\n      <th>koi_disposition_FALSE POSITIVE</th>\n    </tr>\n  </thead>\n  <tbody>\n    <tr>\n      <th>0</th>\n      <td>0</td>\n      <td>0</td>\n      <td>0</td>\n      <td>0</td>\n      <td>54.418383</td>\n      <td>162.513840</td>\n      <td>4.50700</td>\n      <td>874.8</td>\n      <td>2.83</td>\n      <td>9.11</td>\n      <td>...</td>\n      <td>2</td>\n      <td>5455</td>\n      <td>4.467</td>\n      <td>0.927</td>\n      <td>291.93423</td>\n      <td>48.141651</td>\n      <td>15.347</td>\n      <td>0</td>\n      <td>1</td>\n      <td>0</td>\n    </tr>\n    <tr>\n      <th>1</th>\n      <td>0</td>\n      <td>1</td>\n      <td>0</td>\n      <td>0</td>\n      <td>19.899140</td>\n      <td>175.850252</td>\n      <td>1.78220</td>\n      <td>10829.0</td>\n      <td>14.60</td>\n      <td>39.30</td>\n      <td>...</td>\n      <td>1</td>\n      <td>5853</td>\n      <td>4.544</td>\n      <td>0.868</td>\n      <td>297.00482</td>\n      <td>48.134129</td>\n      <td>15.436</td>\n      <td>0</td>\n      <td>0</td>\n      <td>1</td>\n    </tr>\n    <tr>\n      <th>2</th>\n      <td>0</td>\n      <td>1</td>\n      <td>0</td>\n      <td>0</td>\n      <td>1.736952</td>\n      <td>170.307565</td>\n      <td>2.40641</td>\n      <td>8079.2</td>\n      <td>33.46</td>\n      <td>891.96</td>\n      <td>...</td>\n      <td>1</td>\n      <td>5805</td>\n      <td>4.564</td>\n      <td>0.791</td>\n      <td>285.53461</td>\n      <td>48.285210</td>\n      <td>15.597</td>\n      <td>0</td>\n      <td>0</td>\n      <td>1</td>\n    </tr>\n    <tr>\n      <th>3</th>\n      <td>0</td>\n      <td>0</td>\n      <td>0</td>\n      <td>0</td>\n      <td>2.525592</td>\n      <td>171.595550</td>\n      <td>1.65450</td>\n      <td>603.3</td>\n      <td>2.75</td>\n      <td>926.16</td>\n      <td>...</td>\n      <td>1</td>\n      <td>6031</td>\n      <td>4.438</td>\n      <td>1.046</td>\n      <td>288.75488</td>\n      <td>48.226200</td>\n      <td>15.509</td>\n      <td>0</td>\n      <td>1</td>\n      <td>0</td>\n    </tr>\n    <tr>\n      <th>4</th>\n      <td>0</td>\n      <td>0</td>\n      <td>0</td>\n      <td>0</td>\n      <td>4.134435</td>\n      <td>172.979370</td>\n      <td>3.14020</td>\n      <td>686.0</td>\n      <td>2.77</td>\n      <td>427.65</td>\n      <td>...</td>\n      <td>2</td>\n      <td>6046</td>\n      <td>4.486</td>\n      <td>0.972</td>\n      <td>296.28613</td>\n      <td>48.224670</td>\n      <td>15.714</td>\n      <td>0</td>\n      <td>1</td>\n      <td>0</td>\n    </tr>\n  </tbody>\n</table>\n<p>5 rows × 21 columns</p>\n</div>",
      "text/plain": "   koi_fpflag_nt  koi_fpflag_ss  koi_fpflag_co  koi_fpflag_ec  koi_period  \\\n0              0              0              0              0   54.418383   \n1              0              1              0              0   19.899140   \n2              0              1              0              0    1.736952   \n3              0              0              0              0    2.525592   \n4              0              0              0              0    4.134435   \n\n   koi_time0bk  koi_duration  koi_depth  koi_prad  koi_insol  ...  \\\n0   162.513840       4.50700      874.8      2.83       9.11  ...   \n1   175.850252       1.78220    10829.0     14.60      39.30  ...   \n2   170.307565       2.40641     8079.2     33.46     891.96  ...   \n3   171.595550       1.65450      603.3      2.75     926.16  ...   \n4   172.979370       3.14020      686.0      2.77     427.65  ...   \n\n   koi_tce_plnt_num  koi_steff  koi_slogg  koi_srad         ra        dec  \\\n0                 2       5455      4.467     0.927  291.93423  48.141651   \n1                 1       5853      4.544     0.868  297.00482  48.134129   \n2                 1       5805      4.564     0.791  285.53461  48.285210   \n3                 1       6031      4.438     1.046  288.75488  48.226200   \n4                 2       6046      4.486     0.972  296.28613  48.224670   \n\n   koi_kepmag  koi_disposition_CANDIDATE  koi_disposition_CONFIRMED  \\\n0      15.347                          0                          1   \n1      15.436                          0                          0   \n2      15.597                          0                          0   \n3      15.509                          0                          1   \n4      15.714                          0                          1   \n\n   koi_disposition_FALSE POSITIVE  \n0                               0  \n1                               1  \n2                               1  \n3                               0  \n4                               0  \n\n[5 rows x 21 columns]"
     },
     "execution_count": 8,
     "metadata": {},
     "output_type": "execute_result"
    }
   ],
   "source": [
    "selected_features_dummies = pd.get_dummies(selected_features)\r\n",
    "selected_features_dummies.head()"
   ]
  },
  {
   "cell_type": "markdown",
   "metadata": {},
   "source": [
    "# Create a Train Test Split\n",
    "\n",
    "Use `koi_disposition` for the y values"
   ]
  },
  {
   "cell_type": "code",
   "execution_count": 9,
   "metadata": {},
   "outputs": [
    {
     "name": "stdout",
     "output_type": "stream",
     "text": [
      "(6991, 18) (6991,)\n"
     ]
    }
   ],
   "source": [
    "X = selected_features.drop(\"koi_disposition\", axis=1)\r\n",
    "y = selected_features_dummies[\"koi_disposition_CONFIRMED\"]\r\n",
    "print(X.shape, y.shape)"
   ]
  },
  {
   "cell_type": "code",
   "execution_count": 10,
   "metadata": {},
   "outputs": [],
   "source": [
    "# Split the data into training and testing\r\n",
    "from sklearn.model_selection import train_test_split\r\n",
    "from sklearn.preprocessing import LabelEncoder, MinMaxScaler\r\n",
    "from sklearn.preprocessing import StandardScaler\r\n",
    "from tensorflow.keras.utils import to_categorical\r\n",
    "\r\n",
    "X_train, X_test, y_train, y_test = train_test_split(X, y, random_state=1)"
   ]
  },
  {
   "cell_type": "markdown",
   "metadata": {},
   "source": [
    "# Pre-processing\n",
    "\n",
    "Scale the data using the MinMaxScaler and perform some feature selection"
   ]
  },
  {
   "cell_type": "code",
   "execution_count": 11,
   "metadata": {},
   "outputs": [],
   "source": [
    "# Scale your data\r\n",
    "X_scaler = MinMaxScaler().fit(X_train)\r\n",
    "X_train_scaled = X_scaler.transform(X_train)\r\n",
    "X_test_scaled = X_scaler.transform(X_test)\r\n"
   ]
  },
  {
   "cell_type": "code",
   "execution_count": 12,
   "metadata": {},
   "outputs": [],
   "source": [
    "# Step 1: Label-encode data set\r\n",
    "label_encoder = LabelEncoder()\r\n",
    "label_encoder.fit(y_train)\r\n",
    "encoded_y_train = label_encoder.transform(y_train)\r\n",
    "encoded_y_test = label_encoder.transform(y_test)\r\n"
   ]
  },
  {
   "cell_type": "code",
   "execution_count": 13,
   "metadata": {},
   "outputs": [],
   "source": [
    "# Step 2: Convert encoded labels to one-hot-encoding\r\n",
    "y_train_categorical = to_categorical(encoded_y_train)\r\n",
    "y_test_categorical = to_categorical(encoded_y_test)"
   ]
  },
  {
   "cell_type": "markdown",
   "metadata": {},
   "source": [
    "# Train the Model\n",
    "\n"
   ]
  },
  {
   "cell_type": "code",
   "execution_count": 14,
   "metadata": {},
   "outputs": [],
   "source": [
    "from sklearn.ensemble import RandomForestClassifier"
   ]
  },
  {
   "cell_type": "code",
   "execution_count": 15,
   "metadata": {},
   "outputs": [
    {
     "name": "stdout",
     "output_type": "stream",
     "text": [
      "Testing Data Score 0.9073226544622426\n"
     ]
    }
   ],
   "source": [
    "# Create a random forest classifier\r\n",
    "model_rf = RandomForestClassifier(n_estimators=200)\r\n",
    "model_rf = model_rf.fit(X_train_scaled, encoded_y_train)\r\n",
    "print(f'Testing Data Score {model_rf.score(X_test_scaled, encoded_y_test)}')\r\n"
   ]
  },
  {
   "cell_type": "markdown",
   "metadata": {},
   "source": [
    "# Hyperparameter Tuning\n",
    "\n",
    "Use `GridSearchCV` to tune the model's parameters"
   ]
  },
  {
   "cell_type": "markdown",
   "metadata": {},
   "source": [
    "# Save the Model"
   ]
  },
  {
   "cell_type": "code",
   "execution_count": 16,
   "metadata": {},
   "outputs": [
    {
     "data": {
      "text/plain": "['mbm_model_3_randomforest.sav']"
     },
     "execution_count": 16,
     "metadata": {},
     "output_type": "execute_result"
    }
   ],
   "source": [
    "# save your model by updating \"your_name\" with your name\r\n",
    "# and \"your_model\" with your model variable\r\n",
    "# be sure to turn this in to BCS\r\n",
    "# if joblib fails to import, try running the command to install in terminal/git-bash\r\n",
    "import joblib\r\n",
    "filename = 'mbm_model_3_randomforest.sav'\r\n",
    "joblib.dump(model_rf, filename)"
   ]
  },
  {
   "cell_type": "code",
   "execution_count": null,
   "metadata": {},
   "outputs": [],
   "source": []
  }
 ],
 "metadata": {
  "kernel_info": {
   "name": "dev"
  },
  "kernelspec": {
   "display_name": "Python 3.6.13 64-bit ('PythonAdv': conda)",
   "name": "python3613jvsc74a57bd0c91abc3bdc7f7e4200413c4b2daafdf4bfbb8412b11bd0e8112327a9256476b0"
  },
  "language_info": {
   "codemirror_mode": {
    "name": "ipython",
    "version": 3
   },
   "file_extension": ".py",
   "mimetype": "text/x-python",
   "name": "python",
   "nbconvert_exporter": "python",
   "pygments_lexer": "ipython3",
   "version": "3.6.13"
  },
  "nteract": {
   "version": "0.12.3"
  }
 },
 "nbformat": 4,
 "nbformat_minor": 2
}